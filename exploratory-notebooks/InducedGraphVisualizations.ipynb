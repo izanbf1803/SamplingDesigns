{
 "cells": [
  {
   "cell_type": "code",
   "execution_count": 1,
   "id": "206f1ac2-4734-4478-bbfe-4e0c770209b9",
   "metadata": {},
   "outputs": [],
   "source": [
    "import numpy as np\n",
    "\n",
    "class Graph:\n",
    "    def __init__(self):\n",
    "        self.nodes = set()\n",
    "        self.edges = set()\n",
    "\n",
    "    def add_node(self, a):\n",
    "        self.nodes.add(a)\n",
    "    \n",
    "    def add_edge(self, a, b):\n",
    "        self.add_node(a)\n",
    "        self.add_node(b)\n",
    "        self.edges.add((min(a, b), max(a, b)))\n",
    "\n",
    "\n",
    "class Point:\n",
    "    def __init__(self, x: int, y: int, z: int):\n",
    "        self.x = x\n",
    "        self.y = y\n",
    "        self.z = z\n",
    "\n",
    "    def __str__(self):\n",
    "        return f\"({self.x}, {self.y}, {self.z})\"\n",
    "\n",
    "    def __repr__(self):\n",
    "        return self.__str__()\n",
    "\n",
    "class ImproperCube:\n",
    "    def __init__(self, N: int):\n",
    "        self.N = N\n",
    "        self.proper = True\n",
    "        self.cube = np.zeros((N, N, N), dtype=int)\n",
    "        for i in range(N):\n",
    "            for j in range(N):\n",
    "                self.cube[i,j,(i+j)%N] = 1\n",
    "                \n",
    "    def __str__(self):\n",
    "        return str(self.proper) + str(self.cube)\n",
    "\n",
    "    def __repr__(self):\n",
    "        return self.__str__()\n",
    "\n",
    "    def ones(self, x: int, y: int, z: int):\n",
    "        assert(x == -1 or y == -1 or z == -1)\n",
    "\n",
    "        indices = []\n",
    "        if x == -1:\n",
    "            for i in range(self.N):\n",
    "                if self.cube[i,y,z] == 1:\n",
    "                    indices.append(i)\n",
    "        elif y == -1:\n",
    "            for i in range(self.N):\n",
    "                if self.cube[x,i,z] == 1:\n",
    "                    indices.append(i)\n",
    "        elif z == -1:\n",
    "            for i in range(self.N):\n",
    "                if self.cube[x,y,i] == 1:\n",
    "                    indices.append(i)\n",
    "        else:\n",
    "            assert False    \n",
    "        return indices\n",
    "\n",
    "    def move(self, a: Point, b: Point):\n",
    "        LScopy = ImproperCube(N=self.N)    \n",
    "        LScopy.cube = self.cube.copy()\n",
    "\n",
    "        assert LScopy.cube[a.x,a.y,a.z] in [-1, 0]\n",
    "        \n",
    "        LScopy.cube[a.x,a.y,a.z] += 1\n",
    "        LScopy.cube[a.x,a.y,b.z] -= 1\n",
    "        LScopy.cube[a.x,b.y,a.z] -= 1\n",
    "        LScopy.cube[b.x,a.y,a.z] -= 1\n",
    "        LScopy.cube[a.x,b.y,b.z] += 1\n",
    "        LScopy.cube[b.x,a.y,b.z] += 1\n",
    "        LScopy.cube[b.x,b.y,a.z] += 1\n",
    "        LScopy.cube[b.x,b.y,b.z] -= 1\n",
    "        if LScopy.cube[b.x,b.y,b.z] == -1:\n",
    "            LScopy.proper = False\n",
    "        else:\n",
    "            LScopy.proper = True\n",
    "\n",
    "        return LScopy\n",
    "\n",
    "    def adjacent(self):\n",
    "        adj = []\n",
    "        if self.proper:\n",
    "            for x in range(self.N):\n",
    "                for y in range(self.N):\n",
    "                    for z in range(self.N):\n",
    "                        if self.cube[x,y,z] == 0:\n",
    "                            x_ = self.ones(-1, y, z)[0]\n",
    "                            y_ = self.ones(x, -1, z)[0]\n",
    "                            z_ = self.ones(x, y, -1)[0]\n",
    "                            adj.append(self.move(Point(x, y, z), Point(x_, y_, z_)))\n",
    "        else:\n",
    "            minusone = None\n",
    "            for x in range(self.N):\n",
    "                for y in range(self.N):\n",
    "                    for z in range(self.N):\n",
    "                        if self.cube[x,y,z] == -1:\n",
    "                            minusone = Point(x, y, z)\n",
    "            X = self.ones(-1, minusone.y, minusone.z)\n",
    "            Y = self.ones(minusone.x, -1, minusone.z)\n",
    "            Z = self.ones(minusone.x, minusone.y, -1)\n",
    "            # print(minusone,X,Y,Z)\n",
    "            for i in range(2):\n",
    "                for j in range(2):\n",
    "                    for k in range(2):\n",
    "                        x_ = X[i]\n",
    "                        y_ = Y[j]\n",
    "                        z_ = Z[k]\n",
    "                        adj.append(self.move(minusone, Point(x_, y_, z_)))\n",
    "        return adj\n",
    "\n",
    "    "
   ]
  },
  {
   "cell_type": "code",
   "execution_count": 2,
   "id": "c57a8a9c-e4cf-4d7a-b7cf-e5fc9e676d7c",
   "metadata": {},
   "outputs": [],
   "source": [
    "import sys\n",
    "sys.setrecursionlimit(1000000000)"
   ]
  },
  {
   "cell_type": "code",
   "execution_count": 3,
   "id": "68889c8c-9d9c-4a52-8fa4-9c5f9b14d438",
   "metadata": {},
   "outputs": [],
   "source": [
    "N = 4"
   ]
  },
  {
   "cell_type": "code",
   "execution_count": 4,
   "id": "a53afb5e-5eed-470a-a1ab-9ec15cdff7e4",
   "metadata": {},
   "outputs": [
    {
     "data": {
      "text/plain": [
       "array([[[1, 0, 0, 0],\n",
       "        [0, 1, 0, 0],\n",
       "        [0, 0, 1, 0],\n",
       "        [0, 0, 0, 1]],\n",
       "\n",
       "       [[0, 1, 0, 0],\n",
       "        [0, 0, 1, 0],\n",
       "        [0, 0, 0, 1],\n",
       "        [1, 0, 0, 0]],\n",
       "\n",
       "       [[0, 0, 1, 0],\n",
       "        [0, 0, 0, 1],\n",
       "        [1, 0, 0, 0],\n",
       "        [0, 1, 0, 0]],\n",
       "\n",
       "       [[0, 0, 0, 1],\n",
       "        [1, 0, 0, 0],\n",
       "        [0, 1, 0, 0],\n",
       "        [0, 0, 1, 0]]])"
      ]
     },
     "execution_count": 4,
     "metadata": {},
     "output_type": "execute_result"
    }
   ],
   "source": [
    "\n",
    "LS = ImproperCube(N=N)\n",
    "LS.cube"
   ]
  },
  {
   "cell_type": "code",
   "execution_count": 5,
   "id": "10066740-23c4-4bfb-8083-d9717a0b3be9",
   "metadata": {},
   "outputs": [],
   "source": [
    "# LS.adjacent()"
   ]
  },
  {
   "cell_type": "code",
   "execution_count": 6,
   "id": "71629b70-79c9-4547-b19a-618048bdc98a",
   "metadata": {},
   "outputs": [],
   "source": [
    "def dfs(visited, u):\n",
    "    visited[str(u)] = u\n",
    "    for v in u.adjacent():\n",
    "        if str(v) not in visited:\n",
    "            dfs(visited, v)"
   ]
  },
  {
   "cell_type": "code",
   "execution_count": 7,
   "id": "928a1332-32c4-4196-b7b0-fc74e6aa9840",
   "metadata": {},
   "outputs": [],
   "source": [
    "visited = dict()\n",
    "dfs(visited, LS)"
   ]
  },
  {
   "cell_type": "code",
   "execution_count": 8,
   "id": "abd8e37d-324e-49f5-8d8e-395231eaf0c1",
   "metadata": {},
   "outputs": [],
   "source": [
    "# visited.values()"
   ]
  },
  {
   "cell_type": "code",
   "execution_count": 9,
   "id": "c7754a88-1d4f-4fa6-8b1a-ff19f63bde51",
   "metadata": {},
   "outputs": [],
   "source": [
    "G = Graph()\n",
    "for u in visited.values():\n",
    "    for v in u.adjacent():\n",
    "        G.add_edge(str(u), str(v))"
   ]
  },
  {
   "cell_type": "code",
   "execution_count": null,
   "id": "5191da2c-fe57-4c41-9d1c-0f6e1083599d",
   "metadata": {},
   "outputs": [],
   "source": []
  },
  {
   "cell_type": "code",
   "execution_count": null,
   "id": "0362fdc2-bff2-4758-9bcb-a3dbae5ee2b3",
   "metadata": {},
   "outputs": [],
   "source": [
    "import networkx as nx\n",
    "import matplotlib.pyplot as plt\n",
    "\n",
    "# Create a graph\n",
    "nodes = list(G.nodes)\n",
    "nxG = nx.Graph()\n",
    "\n",
    "# Add nodes\n",
    "\n",
    "nxG.add_nodes_from(nodes)\n",
    "\n",
    "node_colors = ['red' if u[0] == 'F' else 'blue' for u in nodes]\n",
    "\n",
    "# Add edges\n",
    "nxG.add_edges_from(list(G.edges))\n",
    "\n",
    "print(f\"N={N}, |nodes|={len(nodes)}, diam={nx.diameter(nxG)}\")\n",
    "\n",
    "\n",
    "# pos = nx.spring_layout(nxG, iterations=1000)\n",
    "# # pos = nx.spring_layout(nxG)\n",
    "# # Draw the graph\n",
    "# nx.draw(nxG, pos, with_labels=False, node_color=node_colors, node_size=100, font_size=10, alpha=1)\n",
    "# plt.show()\n"
   ]
  },
  {
   "cell_type": "code",
   "execution_count": null,
   "id": "4b7d0014-9a80-41b4-9333-e2470ffab7ba",
   "metadata": {},
   "outputs": [],
   "source": []
  }
 ],
 "metadata": {
  "kernelspec": {
   "display_name": "Python 3 (ipykernel)",
   "language": "python",
   "name": "python3"
  },
  "language_info": {
   "codemirror_mode": {
    "name": "ipython",
    "version": 3
   },
   "file_extension": ".py",
   "mimetype": "text/x-python",
   "name": "python",
   "nbconvert_exporter": "python",
   "pygments_lexer": "ipython3",
   "version": "3.12.7"
  }
 },
 "nbformat": 4,
 "nbformat_minor": 5
}
